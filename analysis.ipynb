{
 "cells": [
  {
   "cell_type": "markdown",
   "metadata": {},
   "source": [
    "## Load training dataset into pandas dataframe"
   ]
  },
  {
   "cell_type": "code",
   "execution_count": 20,
   "metadata": {},
   "outputs": [
    {
     "data": {
      "text/html": [
       "<div>\n",
       "<style scoped>\n",
       "    .dataframe tbody tr th:only-of-type {\n",
       "        vertical-align: middle;\n",
       "    }\n",
       "\n",
       "    .dataframe tbody tr th {\n",
       "        vertical-align: top;\n",
       "    }\n",
       "\n",
       "    .dataframe thead th {\n",
       "        text-align: right;\n",
       "    }\n",
       "</style>\n",
       "<table border=\"1\" class=\"dataframe\">\n",
       "  <thead>\n",
       "    <tr style=\"text-align: right;\">\n",
       "      <th></th>\n",
       "      <th>tweetId</th>\n",
       "      <th>tweetText</th>\n",
       "      <th>userId</th>\n",
       "      <th>imageId(s)</th>\n",
       "      <th>username</th>\n",
       "      <th>timestamp</th>\n",
       "      <th>label</th>\n",
       "    </tr>\n",
       "  </thead>\n",
       "  <tbody>\n",
       "    <tr>\n",
       "      <th>0</th>\n",
       "      <td>263046056240115712</td>\n",
       "      <td>¿Se acuerdan de la película: “El día después d...</td>\n",
       "      <td>21226711</td>\n",
       "      <td>sandyA_fake_46</td>\n",
       "      <td>iAnnieM</td>\n",
       "      <td>Mon Oct 29 22:34:01 +0000 2012</td>\n",
       "      <td>fake</td>\n",
       "    </tr>\n",
       "    <tr>\n",
       "      <th>1</th>\n",
       "      <td>262995061304852481</td>\n",
       "      <td>@milenagimon: Miren a Sandy en NY!  Tremenda i...</td>\n",
       "      <td>192378571</td>\n",
       "      <td>sandyA_fake_09</td>\n",
       "      <td>CarlosVerareal</td>\n",
       "      <td>Mon Oct 29 19:11:23 +0000 2012</td>\n",
       "      <td>fake</td>\n",
       "    </tr>\n",
       "    <tr>\n",
       "      <th>2</th>\n",
       "      <td>262979898002534400</td>\n",
       "      <td>Buena la foto del Huracán Sandy, me recuerda a...</td>\n",
       "      <td>132303095</td>\n",
       "      <td>sandyA_fake_09</td>\n",
       "      <td>LucasPalape</td>\n",
       "      <td>Mon Oct 29 18:11:08 +0000 2012</td>\n",
       "      <td>fake</td>\n",
       "    </tr>\n",
       "    <tr>\n",
       "      <th>3</th>\n",
       "      <td>262996108400271360</td>\n",
       "      <td>Scary shit #hurricane #NY http://t.co/e4JLBUfH</td>\n",
       "      <td>241995902</td>\n",
       "      <td>sandyA_fake_29</td>\n",
       "      <td>Haaaaarryyy</td>\n",
       "      <td>Mon Oct 29 19:15:33 +0000 2012</td>\n",
       "      <td>fake</td>\n",
       "    </tr>\n",
       "    <tr>\n",
       "      <th>4</th>\n",
       "      <td>263018881839411200</td>\n",
       "      <td>My fave place in the world #nyc #hurricane #sa...</td>\n",
       "      <td>250315890</td>\n",
       "      <td>sandyA_fake_15</td>\n",
       "      <td>princess__natt</td>\n",
       "      <td>Mon Oct 29 20:46:02 +0000 2012</td>\n",
       "      <td>fake</td>\n",
       "    </tr>\n",
       "  </tbody>\n",
       "</table>\n",
       "</div>"
      ],
      "text/plain": [
       "              tweetId                                          tweetText  \\\n",
       "0  263046056240115712  ¿Se acuerdan de la película: “El día después d...   \n",
       "1  262995061304852481  @milenagimon: Miren a Sandy en NY!  Tremenda i...   \n",
       "2  262979898002534400  Buena la foto del Huracán Sandy, me recuerda a...   \n",
       "3  262996108400271360     Scary shit #hurricane #NY http://t.co/e4JLBUfH   \n",
       "4  263018881839411200  My fave place in the world #nyc #hurricane #sa...   \n",
       "\n",
       "      userId      imageId(s)        username                       timestamp  \\\n",
       "0   21226711  sandyA_fake_46         iAnnieM  Mon Oct 29 22:34:01 +0000 2012   \n",
       "1  192378571  sandyA_fake_09  CarlosVerareal  Mon Oct 29 19:11:23 +0000 2012   \n",
       "2  132303095  sandyA_fake_09     LucasPalape  Mon Oct 29 18:11:08 +0000 2012   \n",
       "3  241995902  sandyA_fake_29     Haaaaarryyy  Mon Oct 29 19:15:33 +0000 2012   \n",
       "4  250315890  sandyA_fake_15  princess__natt  Mon Oct 29 20:46:02 +0000 2012   \n",
       "\n",
       "  label  \n",
       "0  fake  \n",
       "1  fake  \n",
       "2  fake  \n",
       "3  fake  \n",
       "4  fake  "
      ]
     },
     "execution_count": 20,
     "metadata": {},
     "output_type": "execute_result"
    }
   ],
   "source": [
    "import numpy as np\n",
    "import pandas as pd\n",
    "import matplotlib.pyplot as plt\n",
    "#training  = pd.read_table(\"mediaeval-2015-trainingset.txt\")\n",
    "#testing = pd.read_table(\"mediaeval-2015-testset.txt\")\n",
    "#training = pd.DataFrame(columns = ['tweetId', 'tweetText', 'userId', 'imageId(s)', 'username', 'timestamp', 'label'])\n",
    "rows_list = []\n",
    "with open('mediaeval-2015-trainingset.txt', 'r', encoding=\"utf-8\") as file:\n",
    "    for line in file:\n",
    "        entry = [l.strip() for l in line.split('\\t')]\n",
    "        rows_list.append(entry)\n",
    "training = pd.DataFrame(rows_list[1:], columns = rows_list[0])\n",
    "training.head()"
   ]
  },
  {
   "cell_type": "markdown",
   "metadata": {},
   "source": [
    "## Initial overview"
   ]
  },
  {
   "cell_type": "code",
   "execution_count": 21,
   "metadata": {
    "scrolled": true
   },
   "outputs": [
    {
     "data": {
      "text/html": [
       "<div>\n",
       "<style scoped>\n",
       "    .dataframe tbody tr th:only-of-type {\n",
       "        vertical-align: middle;\n",
       "    }\n",
       "\n",
       "    .dataframe tbody tr th {\n",
       "        vertical-align: top;\n",
       "    }\n",
       "\n",
       "    .dataframe thead th {\n",
       "        text-align: right;\n",
       "    }\n",
       "</style>\n",
       "<table border=\"1\" class=\"dataframe\">\n",
       "  <thead>\n",
       "    <tr style=\"text-align: right;\">\n",
       "      <th></th>\n",
       "      <th>tweetId</th>\n",
       "      <th>tweetText</th>\n",
       "      <th>userId</th>\n",
       "      <th>imageId(s)</th>\n",
       "      <th>username</th>\n",
       "      <th>timestamp</th>\n",
       "      <th>label</th>\n",
       "    </tr>\n",
       "  </thead>\n",
       "  <tbody>\n",
       "    <tr>\n",
       "      <th>count</th>\n",
       "      <td>14483</td>\n",
       "      <td>14483</td>\n",
       "      <td>14483</td>\n",
       "      <td>14483</td>\n",
       "      <td>14483</td>\n",
       "      <td>14483</td>\n",
       "      <td>14483</td>\n",
       "    </tr>\n",
       "    <tr>\n",
       "      <th>unique</th>\n",
       "      <td>14481</td>\n",
       "      <td>12542</td>\n",
       "      <td>13684</td>\n",
       "      <td>379</td>\n",
       "      <td>13684</td>\n",
       "      <td>14103</td>\n",
       "      <td>3</td>\n",
       "    </tr>\n",
       "    <tr>\n",
       "      <th>top</th>\n",
       "      <td>263351427320131584</td>\n",
       "      <td>Unbelievable scene flying over #StatenIsland i...</td>\n",
       "      <td>139189262</td>\n",
       "      <td>sandyA_fake_29</td>\n",
       "      <td>SAGandAFTRA</td>\n",
       "      <td>Tue Oct 30 00:31:14 +0000 2012</td>\n",
       "      <td>fake</td>\n",
       "    </tr>\n",
       "    <tr>\n",
       "      <th>freq</th>\n",
       "      <td>2</td>\n",
       "      <td>42</td>\n",
       "      <td>16</td>\n",
       "      <td>1115</td>\n",
       "      <td>16</td>\n",
       "      <td>4</td>\n",
       "      <td>6841</td>\n",
       "    </tr>\n",
       "  </tbody>\n",
       "</table>\n",
       "</div>"
      ],
      "text/plain": [
       "                   tweetId                                          tweetText  \\\n",
       "count                14483                                              14483   \n",
       "unique               14481                                              12542   \n",
       "top     263351427320131584  Unbelievable scene flying over #StatenIsland i...   \n",
       "freq                     2                                                 42   \n",
       "\n",
       "           userId      imageId(s)     username  \\\n",
       "count       14483           14483        14483   \n",
       "unique      13684             379        13684   \n",
       "top     139189262  sandyA_fake_29  SAGandAFTRA   \n",
       "freq           16            1115           16   \n",
       "\n",
       "                             timestamp  label  \n",
       "count                            14483  14483  \n",
       "unique                           14103      3  \n",
       "top     Tue Oct 30 00:31:14 +0000 2012   fake  \n",
       "freq                                 4   6841  "
      ]
     },
     "execution_count": 21,
     "metadata": {},
     "output_type": "execute_result"
    }
   ],
   "source": [
    "training.describe()"
   ]
  },
  {
   "cell_type": "code",
   "execution_count": 22,
   "metadata": {
    "scrolled": true
   },
   "outputs": [
    {
     "data": {
      "text/plain": [
       "(14483, 7)"
      ]
     },
     "execution_count": 22,
     "metadata": {},
     "output_type": "execute_result"
    }
   ],
   "source": [
    "training.shape"
   ]
  },
  {
   "cell_type": "code",
   "execution_count": 23,
   "metadata": {},
   "outputs": [
    {
     "data": {
      "text/plain": [
       "fake     6841\n",
       "real     5009\n",
       "humor    2633\n",
       "Name: label, dtype: int64"
      ]
     },
     "execution_count": 23,
     "metadata": {},
     "output_type": "execute_result"
    }
   ],
   "source": [
    "training['label'].value_counts()\n"
   ]
  },
  {
   "cell_type": "code",
   "execution_count": 24,
   "metadata": {},
   "outputs": [
    {
     "data": {
      "image/png": "[encoded data removed]",
      "text/plain": [
       "<Figure size 432x288 with 1 Axes>"
      ]
     },
     "metadata": {},
     "output_type": "display_data"
    }
   ],
   "source": [
    "counts = [6841, 5009, 2633]\n",
    "my_labels = 'Fake', 'Real', 'Humor'\n",
    "plt.pie(counts,labels=my_labels,autopct='%1.1f%%')\n",
    "#plt.title('Label Distribution')\n",
    "plt.axis('equal')\n",
    "plt.show()"
   ]
  },
  {
   "cell_type": "markdown",
   "metadata": {},
   "source": [
    "## Analysis of tweet contents\n",
    "\n",
    "Create new features in the dataset from tweet text: number of characters in the tweet, number of words in the tweet\n",
    "Also keep count of the frequency words appear throughout dataset."
   ]
  },
  {
   "cell_type": "code",
   "execution_count": 25,
   "metadata": {},
   "outputs": [],
   "source": [
    "from collections import Counter\n",
    "hashtags = Counter()\n",
    "wordList = Counter()\n",
    "tweetWordCount = []\n",
    "wordCounts = Counter()\n",
    "tweetCharLength = []\n",
    "charLengths = Counter()\n",
    "#iterate through tweetText\n",
    "#if a word starts with hashtag, check if in dictionary, update count if not\n",
    "for tweet in training['tweetText']:\n",
    "    tweetCharLength.append(len(tweet))\n",
    "    charLengths[len(tweet)] += 1\n",
    "    words = tweet.split()\n",
    "    tweetWordCount.append(len(words))\n",
    "    wordCounts[len(words)] +=1\n",
    "    for word in words:\n",
    "        wordList[word.lower()] +=1\n",
    "        if word.lower().startswith('#'):\n",
    "            hashtags[word.lower()] +=1\n",
    "training['tweetCharLength'] = tweetCharLength\n",
    "training['tweetWordCount'] = tweetWordCount\n",
    "     "
   ]
  },
  {
   "cell_type": "code",
   "execution_count": 26,
   "metadata": {},
   "outputs": [
    {
     "data": {
      "text/plain": [
       "Text(0.5, 1.0, 'Histogram of tweet word counts of training dataset')"
      ]
     },
     "execution_count": 26,
     "metadata": {},
     "output_type": "execute_result"
    },
    {
     "data": {
      "image/png": "[encoded data removed]",
      "text/plain": [
       "<Figure size 432x288 with 1 Axes>"
      ]
     },
     "metadata": {
      "needs_background": "light"
     },
     "output_type": "display_data"
    }
   ],
   "source": [
    "plt.hist(tweetWordCount, bins = 10)\n",
    "plt.xlabel(\"Number of words in tweet\")\n",
    "plt.ylabel(\"Frequency\")\n",
    "plt.title('Histogram of tweet word counts of training dataset')"
   ]
  },
  {
   "cell_type": "code",
   "execution_count": 27,
   "metadata": {},
   "outputs": [
    {
     "data": {
      "text/plain": [
       "Text(0.5, 1.0, 'Histogram of tweet character counts')"
      ]
     },
     "execution_count": 27,
     "metadata": {},
     "output_type": "execute_result"
    },
    {
     "data": {
      "image/png": "[encoded data removed]",
      "text/plain": [
       "<Figure size 432x288 with 1 Axes>"
      ]
     },
     "metadata": {
      "needs_background": "light"
     },
     "output_type": "display_data"
    }
   ],
   "source": [
    "plt.hist(tweetCharLength, bins = 25)\n",
    "plt.title('Histogram of tweet character counts')"
   ]
  },
  {
   "cell_type": "code",
   "execution_count": 28,
   "metadata": {},
   "outputs": [
    {
     "data": {
      "text/plain": [
       "[('#sandy', 6424),\n",
       " ('the', 3794),\n",
       " ('sandy', 2870),\n",
       " ('of', 2738),\n",
       " ('in', 2587),\n",
       " ('a', 1954),\n",
       " ('is', 1785),\n",
       " ('hurricane', 1781),\n",
       " ('this', 1734),\n",
       " ('#hurricanesandy', 1573)]"
      ]
     },
     "execution_count": 28,
     "metadata": {},
     "output_type": "execute_result"
    }
   ],
   "source": [
    "wordList.most_common(10)"
   ]
  },
  {
   "cell_type": "markdown",
   "metadata": {},
   "source": [
    "Stop words and words related to hurricane sandy dominate the list, as you can see. This is something the classifier should consider in its design - perhaps through stopword removal and POS tagging.\n",
    "\n",
    "Next use the langdetect library to calculate the language distribution"
   ]
  },
  {
   "cell_type": "code",
   "execution_count": 29,
   "metadata": {},
   "outputs": [],
   "source": [
    "from langdetect import detect\n",
    "languages = Counter()\n",
    "tweetLang = []\n",
    "unknown = 0\n",
    "for tweet in training['tweetText']:\n",
    "    try:\n",
    "        l = detect(tweet)\n",
    "        tweetLang.append(l)\n",
    "        languages[l] +=1\n",
    "    except:\n",
    "        unknown += 1\n",
    "        tweetLang.append(\"unknown\")\n",
    "training[\"tweetLanguage\"] = tweetLang"
   ]
  },
  {
   "cell_type": "code",
   "execution_count": 30,
   "metadata": {},
   "outputs": [
    {
     "data": {
      "text/plain": [
       "[('en', 11139),\n",
       " ('es', 1300),\n",
       " ('tl', 312),\n",
       " ('fr', 217),\n",
       " ('id', 182),\n",
       " ('pt', 159),\n",
       " ('so', 130),\n",
       " ('de', 129),\n",
       " ('cy', 121),\n",
       " ('it', 100),\n",
       " ('nl', 93),\n",
       " ('ar', 80),\n",
       " ('af', 75),\n",
       " ('ru', 61),\n",
       " ('sv', 41),\n",
       " ('pl', 37),\n",
       " ('ca', 36),\n",
       " ('no', 35),\n",
       " ('tr', 34),\n",
       " ('da', 25),\n",
       " ('ja', 21),\n",
       " ('th', 18),\n",
       " ('fi', 17),\n",
       " ('sk', 15),\n",
       " ('vi', 12),\n",
       " ('sw', 11),\n",
       " ('zh-cn', 9),\n",
       " ('et', 9),\n",
       " ('bg', 8),\n",
       " ('ro', 8),\n",
       " ('sl', 8),\n",
       " ('hu', 6),\n",
       " ('ko', 6),\n",
       " ('sq', 5),\n",
       " ('lt', 5),\n",
       " ('el', 5),\n",
       " ('fa', 4),\n",
       " ('hr', 3),\n",
       " ('cs', 2),\n",
       " ('he', 1),\n",
       " ('mk', 1),\n",
       " ('hi', 1),\n",
       " ('lv', 1)]"
      ]
     },
     "execution_count": 30,
     "metadata": {},
     "output_type": "execute_result"
    }
   ],
   "source": [
    "languages.most_common()"
   ]
  },
  {
   "cell_type": "markdown",
   "metadata": {},
   "source": [
    "## Comparing tweets by label\n",
    "\n",
    "Split into real, fake and humor to see if there are any notable differences"
   ]
  },
  {
   "cell_type": "code",
   "execution_count": 31,
   "metadata": {},
   "outputs": [
    {
     "data": {
      "text/html": [
       "<div>\n",
       "<style scoped>\n",
       "    .dataframe tbody tr th:only-of-type {\n",
       "        vertical-align: middle;\n",
       "    }\n",
       "\n",
       "    .dataframe tbody tr th {\n",
       "        vertical-align: top;\n",
       "    }\n",
       "\n",
       "    .dataframe thead th {\n",
       "        text-align: right;\n",
       "    }\n",
       "</style>\n",
       "<table border=\"1\" class=\"dataframe\">\n",
       "  <thead>\n",
       "    <tr style=\"text-align: right;\">\n",
       "      <th></th>\n",
       "      <th>tweetId</th>\n",
       "      <th>tweetText</th>\n",
       "      <th>userId</th>\n",
       "      <th>imageId(s)</th>\n",
       "      <th>username</th>\n",
       "      <th>timestamp</th>\n",
       "      <th>label</th>\n",
       "      <th>tweetCharLength</th>\n",
       "      <th>tweetWordCount</th>\n",
       "      <th>tweetLanguage</th>\n",
       "    </tr>\n",
       "  </thead>\n",
       "  <tbody>\n",
       "    <tr>\n",
       "      <th>0</th>\n",
       "      <td>264485305908883456</td>\n",
       "      <td>\"Christie Blocks Sandy with Body, Saves Town\"\\...</td>\n",
       "      <td>781519416</td>\n",
       "      <td>sandyB_fake_12</td>\n",
       "      <td>RossRantsDotCom</td>\n",
       "      <td>Fri Nov 02 21:53:07 +0000 2012</td>\n",
       "      <td>humor</td>\n",
       "      <td>115</td>\n",
       "      <td>9</td>\n",
       "      <td>en</td>\n",
       "    </tr>\n",
       "    <tr>\n",
       "      <th>1</th>\n",
       "      <td>264454012848447489</td>\n",
       "      <td>Britain's last hurricane was devastating... ht...</td>\n",
       "      <td>427742411</td>\n",
       "      <td>sandyB_fake_03</td>\n",
       "      <td>mialily_tudgee</td>\n",
       "      <td>Fri Nov 02 19:48:44 +0000 2012</td>\n",
       "      <td>humor</td>\n",
       "      <td>64</td>\n",
       "      <td>6</td>\n",
       "      <td>en</td>\n",
       "    </tr>\n",
       "    <tr>\n",
       "      <th>2</th>\n",
       "      <td>264694242096599040</td>\n",
       "      <td>wow, so funny, im on the floor, wow, u r cool ...</td>\n",
       "      <td>507779619</td>\n",
       "      <td>sandyB_fake_03</td>\n",
       "      <td>c0nditions</td>\n",
       "      <td>Sat Nov 03 11:43:19 +0000 2012</td>\n",
       "      <td>humor</td>\n",
       "      <td>137</td>\n",
       "      <td>20</td>\n",
       "      <td>en</td>\n",
       "    </tr>\n",
       "    <tr>\n",
       "      <th>3</th>\n",
       "      <td>264694652773482497</td>\n",
       "      <td>wow, so funny, im on the floor, wow, u r cool ...</td>\n",
       "      <td>191200490</td>\n",
       "      <td>sandyB_fake_03</td>\n",
       "      <td>taylorbonnd12</td>\n",
       "      <td>Sat Nov 03 11:44:57 +0000 2012</td>\n",
       "      <td>humor</td>\n",
       "      <td>137</td>\n",
       "      <td>20</td>\n",
       "      <td>en</td>\n",
       "    </tr>\n",
       "    <tr>\n",
       "      <th>4</th>\n",
       "      <td>264329415276756993</td>\n",
       "      <td>Britain's last Hurricane was pretty devastatin...</td>\n",
       "      <td>175860415</td>\n",
       "      <td>sandyB_fake_03</td>\n",
       "      <td>kirstyhoylexo</td>\n",
       "      <td>Fri Nov 02 11:33:38 +0000 2012</td>\n",
       "      <td>humor</td>\n",
       "      <td>71</td>\n",
       "      <td>7</td>\n",
       "      <td>en</td>\n",
       "    </tr>\n",
       "  </tbody>\n",
       "</table>\n",
       "</div>"
      ],
      "text/plain": [
       "              tweetId                                          tweetText  \\\n",
       "0  264485305908883456  \"Christie Blocks Sandy with Body, Saves Town\"\\...   \n",
       "1  264454012848447489  Britain's last hurricane was devastating... ht...   \n",
       "2  264694242096599040  wow, so funny, im on the floor, wow, u r cool ...   \n",
       "3  264694652773482497  wow, so funny, im on the floor, wow, u r cool ...   \n",
       "4  264329415276756993  Britain's last Hurricane was pretty devastatin...   \n",
       "\n",
       "      userId      imageId(s)         username                       timestamp  \\\n",
       "0  781519416  sandyB_fake_12  RossRantsDotCom  Fri Nov 02 21:53:07 +0000 2012   \n",
       "1  427742411  sandyB_fake_03   mialily_tudgee  Fri Nov 02 19:48:44 +0000 2012   \n",
       "2  507779619  sandyB_fake_03       c0nditions  Sat Nov 03 11:43:19 +0000 2012   \n",
       "3  191200490  sandyB_fake_03    taylorbonnd12  Sat Nov 03 11:44:57 +0000 2012   \n",
       "4  175860415  sandyB_fake_03    kirstyhoylexo  Fri Nov 02 11:33:38 +0000 2012   \n",
       "\n",
       "   label  tweetCharLength  tweetWordCount tweetLanguage  \n",
       "0  humor              115               9            en  \n",
       "1  humor               64               6            en  \n",
       "2  humor              137              20            en  \n",
       "3  humor              137              20            en  \n",
       "4  humor               71               7            en  "
      ]
     },
     "execution_count": 31,
     "metadata": {},
     "output_type": "execute_result"
    }
   ],
   "source": [
    "fake_idx = training['label'] == 'fake'\n",
    "fake_training = training[fake_idx].reset_index(drop=True)\n",
    "real_idx = training['label'] == 'real'\n",
    "real_training = training[real_idx].reset_index(drop=True)\n",
    "humor_idx = training['label'] == 'humor'\n",
    "humor_training = training[humor_idx].reset_index(drop=True)\n",
    "humor_training.head()"
   ]
  },
  {
   "cell_type": "code",
   "execution_count": 32,
   "metadata": {},
   "outputs": [
    {
     "data": {
      "image/png": "[encoded data removed]",
      "text/plain": [
       "<Figure size 432x288 with 1 Axes>"
      ]
     },
     "metadata": {
      "needs_background": "light"
     },
     "output_type": "display_data"
    },
    {
     "data": {
      "image/png": "[encoded data removed]",
      "text/plain": [
       "<Figure size 432x288 with 1 Axes>"
      ]
     },
     "metadata": {
      "needs_background": "light"
     },
     "output_type": "display_data"
    },
    {
     "data": {
      "image/png": "[encoded data removed]",
      "text/plain": [
       "<Figure size 432x288 with 1 Axes>"
      ]
     },
     "metadata": {
      "needs_background": "light"
     },
     "output_type": "display_data"
    },
    {
     "data": {
      "image/png": "[encoded data removed]",
      "text/plain": [
       "<Figure size 432x288 with 1 Axes>"
      ]
     },
     "metadata": {
      "needs_background": "light"
     },
     "output_type": "display_data"
    }
   ],
   "source": [
    "#plot distribution of word counts amongst real, fake, and humor splits\n",
    "#tweets with humor label tend to be much shorter compared to the others\n",
    "#real and fake are similar but real peaks a bit earlier\n",
    "#distribution of number of character lengths in tweet tells a similar story\n",
    "plt.hist(humor_training['tweetCharLength'], bins = 5)\n",
    "plt.xlabel(\"Number of characters in tweet\")\n",
    "plt.ylabel(\"Frequency\")\n",
    "plt.title('Tweet character counts of humor-labelled entries in training dataset')\n",
    "plt.show()\n",
    "plt.hist(fake_training['tweetCharLength'], bins = 10)\n",
    "plt.xlabel(\"Number of characters in tweet\")\n",
    "plt.ylabel(\"Frequency\")\n",
    "plt.title('Tweet character counts of fake-labelled entries in training dataset')\n",
    "plt.show()\n",
    "plt.hist(real_training['tweetCharLength'], bins = 10)\n",
    "plt.xlabel(\"Number of characters in tweet\")\n",
    "plt.ylabel(\"Frequency\")\n",
    "plt.title('Tweet character lengths of real-labelled entries in training dataset')\n",
    "plt.show()\n",
    "plt.hist(training['tweetCharLength'], bins = 10)\n",
    "plt.xlabel(\"Number of characters in tweet\")\n",
    "plt.ylabel(\"Frequency\")\n",
    "plt.title('Tweet character lengths of entries in training dataset')\n",
    "plt.show()"
   ]
  },
  {
   "cell_type": "markdown",
   "metadata": {},
   "source": [
    "Main takeaway here is that humor tweets tend to be much shorter compared to the other classes"
   ]
  },
  {
   "cell_type": "code",
   "execution_count": 33,
   "metadata": {},
   "outputs": [
    {
     "data": {
      "image/png": "[encoded data removed]",
      "text/plain": [
       "<Figure size 432x288 with 1 Axes>"
      ]
     },
     "metadata": {
      "needs_background": "light"
     },
     "output_type": "display_data"
    },
    {
     "data": {
      "image/png": "[encoded data removed]",
      "text/plain": [
       "<Figure size 432x288 with 1 Axes>"
      ]
     },
     "metadata": {
      "needs_background": "light"
     },
     "output_type": "display_data"
    },
    {
     "data": {
      "image/png": "[encoded data removed]",
      "text/plain": [
       "<Figure size 432x288 with 1 Axes>"
      ]
     },
     "metadata": {
      "needs_background": "light"
     },
     "output_type": "display_data"
    },
    {
     "data": {
      "image/png": "[encoded data removed]",
      "text/plain": [
       "<Figure size 432x288 with 1 Axes>"
      ]
     },
     "metadata": {
      "needs_background": "light"
     },
     "output_type": "display_data"
    }
   ],
   "source": [
    "plt.hist(humor_training['tweetWordCount'], bins = 5)\n",
    "plt.xlabel(\"Number of words in tweet\")\n",
    "plt.ylabel(\"Frequency\")\n",
    "plt.title('Tweet word counts of humor-labelled entries in training dataset')\n",
    "plt.show()\n",
    "plt.hist(fake_training['tweetWordCount'], bins = 10)\n",
    "plt.xlabel(\"Number of words in tweet\")\n",
    "plt.ylabel(\"Frequency\")\n",
    "plt.title('Tweet word counts of fake-labelled entries in training dataset')\n",
    "plt.show()\n",
    "plt.hist(real_training['tweetWordCount'], bins = 10)\n",
    "plt.xlabel(\"Number of words in tweet\")\n",
    "plt.ylabel(\"Frequency\")\n",
    "plt.title('Tweet word lengths of real-labelled entries in training dataset')\n",
    "plt.show()\n",
    "plt.hist(training['tweetWordCount'], bins = 10)\n",
    "plt.xlabel(\"Number of words in tweet\")\n",
    "plt.ylabel(\"Frequency\")\n",
    "plt.title('Tweet word lengths of entries in training dataset')\n",
    "plt.show()"
   ]
  },
  {
   "cell_type": "code",
   "execution_count": null,
   "metadata": {},
   "outputs": [],
   "source": []
  }
 ],
 "metadata": {
  "kernelspec": {
   "display_name": "Python 3",
   "language": "python",
   "name": "python3"
  },
  "language_info": {
   "codemirror_mode": {
    "name": "ipython",
    "version": 3
   },
   "file_extension": ".py",
   "mimetype": "text/x-python",
   "name": "python",
   "nbconvert_exporter": "python",
   "pygments_lexer": "ipython3",
   "version": "3.6.12"
  }
 },
 "nbformat": 4,
 "nbformat_minor": 4
}
